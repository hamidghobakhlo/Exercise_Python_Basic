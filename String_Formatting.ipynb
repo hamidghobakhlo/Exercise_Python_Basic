{
 "cells": [
  {
   "cell_type": "markdown",
   "metadata": {},
   "source": [
    "# String Formatting"
   ]
  },
  {
   "cell_type": "markdown",
   "metadata": {},
   "source": [
    "F-String was introduced in Python 3.6, and is now the preferred way of formatting strings.  \n",
    "\n",
    "Before Python 3.6 we had to use the format() method."
   ]
  },
  {
   "cell_type": "markdown",
   "metadata": {},
   "source": [
    "### F-Strings\n",
    "* F-string allows you to format selected parts of a string.\n",
    "\n",
    "To specify a string as an f-string, simply put an f in front of the string literal, like this:"
   ]
  },
  {
   "cell_type": "code",
   "execution_count": 1,
   "metadata": {},
   "outputs": [
    {
     "name": "stdout",
     "output_type": "stream",
     "text": [
      "The price is 49 dollars\n"
     ]
    }
   ],
   "source": [
    "# Create an f-string:\n",
    "\n",
    "txt = f\"The price is 49 dollars\"\n",
    "print(txt)"
   ]
  },
  {
   "cell_type": "markdown",
   "metadata": {},
   "source": [
    "### Placeholders and Modifiers\n",
    "To format values in an f-string, add placeholders {}, a placeholder can contain variables, operations, functions, and modifiers to format the value."
   ]
  },
  {
   "cell_type": "code",
   "execution_count": null,
   "metadata": {},
   "outputs": [],
   "source": [
    "# Add a placeholder for the price variable:\n",
    "\n",
    "price = 59\n",
    "txt = f\"The price is {price} dollars\"\n",
    "print(txt)"
   ]
  },
  {
   "cell_type": "markdown",
   "metadata": {},
   "source": [
    "* A placeholder can also include a modifier to format the value.\n",
    "\n",
    "A modifier is included by adding a colon : followed by a legal formatting type, like .2f which means fixed point number with 2 decimals:"
   ]
  },
  {
   "cell_type": "code",
   "execution_count": 2,
   "metadata": {},
   "outputs": [
    {
     "name": "stdout",
     "output_type": "stream",
     "text": [
      "The price is 59.00 dollars\n"
     ]
    }
   ],
   "source": [
    "# Display the price with 2 decimals:\n",
    "\n",
    "price = 59\n",
    "txt = f\"The price is {price:.2f} dollars\"\n",
    "print(txt)"
   ]
  },
  {
   "cell_type": "markdown",
   "metadata": {},
   "source": [
    "* You can also format a value directly without keeping it in a variable:\n",
    "\n"
   ]
  },
  {
   "cell_type": "code",
   "execution_count": 3,
   "metadata": {},
   "outputs": [
    {
     "name": "stdout",
     "output_type": "stream",
     "text": [
      "The price is 95.00 dollars\n"
     ]
    }
   ],
   "source": [
    "# Display the value 95 with 2 decimals:\n",
    "\n",
    "txt = f\"The price is {95:.2f} dollars\"\n",
    "print(txt)"
   ]
  },
  {
   "cell_type": "markdown",
   "metadata": {},
   "source": [
    "### Perform Operations in F-Strings\n",
    "You can perform Python operations inside the placeholders.\n",
    "\n",
    "You can do math operations:"
   ]
  },
  {
   "cell_type": "code",
   "execution_count": null,
   "metadata": {},
   "outputs": [],
   "source": [
    "# Perform a math operation in the placeholder, and return the result:\n",
    "\n",
    "txt = f\"The price is {20 * 59} dollars\"\n",
    "print(txt)"
   ]
  },
  {
   "cell_type": "markdown",
   "metadata": {},
   "source": [
    "#### You can perform math operations on variables:\n",
    "\n"
   ]
  },
  {
   "cell_type": "code",
   "execution_count": null,
   "metadata": {},
   "outputs": [],
   "source": [
    "# Add taxes before displaying the price:\n",
    "\n",
    "price = 59\n",
    "tax = 0.25\n",
    "txt = f\"The price is {price + (price * tax)} dollars\"\n",
    "print(txt)"
   ]
  },
  {
   "cell_type": "markdown",
   "metadata": {},
   "source": [
    "#### You can perform if...else statements inside the placeholders:\n",
    "\n"
   ]
  },
  {
   "cell_type": "code",
   "execution_count": 4,
   "metadata": {},
   "outputs": [
    {
     "name": "stdout",
     "output_type": "stream",
     "text": [
      "It is very Cheap\n"
     ]
    }
   ],
   "source": [
    "# Return \"Expensive\" if the price is over 50, otherwise return \"Cheap\":\n",
    "\n",
    "price = 49\n",
    "txt = f\"It is very {'Expensive' if price>50 else 'Cheap'}\"\n",
    "\n",
    "print(txt)"
   ]
  },
  {
   "cell_type": "markdown",
   "metadata": {},
   "source": [
    "### Execute Functions in F-Strings  \n",
    "You can execute functions inside the placeholder:"
   ]
  },
  {
   "cell_type": "code",
   "execution_count": 5,
   "metadata": {},
   "outputs": [
    {
     "name": "stdout",
     "output_type": "stream",
     "text": [
      "I love APPLES\n"
     ]
    }
   ],
   "source": [
    "# Use the string method upper()to convert a value into upper case letters:\n",
    "\n",
    "fruit = \"apples\"\n",
    "txt = f\"I love {fruit.upper()}\"\n",
    "print(txt)"
   ]
  },
  {
   "cell_type": "markdown",
   "metadata": {},
   "source": [
    "#### The function does not have to be a built-in Python method, you can create your own functions and use them"
   ]
  },
  {
   "cell_type": "code",
   "execution_count": null,
   "metadata": {},
   "outputs": [],
   "source": [
    "# Create a function that converts feet into meters:\n",
    "\n",
    "def myconverter(x):\n",
    "  return x * 0.3048\n",
    "\n",
    "txt = f\"The plane is flying at a {myconverter(30000)} meter altitude\"\n",
    "print(txt)"
   ]
  },
  {
   "cell_type": "markdown",
   "metadata": {},
   "source": [
    "### More Modifiers\n",
    "At the beginning of this chapter we explained how to use the .2f modifier to format a number into a fixed point number with 2 decimals.\n",
    "\n",
    "There are several other modifiers that can be used to format values:"
   ]
  },
  {
   "cell_type": "code",
   "execution_count": 6,
   "metadata": {},
   "outputs": [
    {
     "name": "stdout",
     "output_type": "stream",
     "text": [
      "The price is 59,000 dollars\n"
     ]
    }
   ],
   "source": [
    "# Use a comma as a thousand separator:\n",
    "\n",
    "price = 59000\n",
    "txt = f\"The price is {price:,} dollars\"\n",
    "print(txt)"
   ]
  },
  {
   "cell_type": "markdown",
   "metadata": {},
   "source": [
    "#### Here is a list of all the formatting types.\n",
    "\n"
   ]
  },
  {
   "cell_type": "markdown",
   "metadata": {},
   "source": [
    "|Formatting Types|\n",
    "|----------------|\n",
    ":<\t\tLeft aligns the result (within the available space)\n",
    ":>\t\tRight aligns the result (within the available space)\n",
    ":^\t\tCenter aligns the result (within the available space)\n",
    ":=\t\tPlaces the sign to the left most position\n",
    ":+\t\tUse a plus sign to indicate if the result is positive or negative\n",
    ":-\t\tUse a minus sign for negative values only\n",
    ": \t\tUse a space to insert an extra space before positive numbers (and a minus sign before negative numbers)\n",
    ":,\t\tUse a comma as a thousand separator\n",
    ":_\t\tUse a underscore as a thousand separator\n",
    ":b\t\tBinary format\n",
    ":c\t\tConverts the value into the corresponding Unicode character\n",
    ":d\t\tDecimal format\n",
    ":e\t\tScientific format, with a lower case e\n",
    ":E\t\tScientific format, with an upper case E\n",
    ":f\t\tFix point number format\n",
    ":F\t\tFix point number format, in uppercase format (show inf and nan as INF and NAN)\n",
    ":g\t\tGeneral format\n",
    ":G\t\tGeneral format (using a upper case E for scientific notations)\n",
    ":o\t\tOctal format\n",
    ":x\t\tHex format, lower case\n",
    ":X\t\tHex format, upper case\n",
    ":n\t\tNumber format\n",
    ":%\t\tPercentage format"
   ]
  },
  {
   "cell_type": "markdown",
   "metadata": {},
   "source": [
    "### String format()\n",
    "Before Python 3.6 we used the format() method to format strings.\n",
    "\n",
    "The format() method can still be used, but f-strings are faster and the preferred way to format strings.\n",
    "\n",
    "The next examples in this page demonstrates how to format strings with the format() method.\n",
    "\n",
    "The format() method also uses curly brackets as placeholders {}, but the syntax is slightly different:"
   ]
  },
  {
   "cell_type": "code",
   "execution_count": null,
   "metadata": {},
   "outputs": [],
   "source": [
    "# Add a placeholder where you want to display the price:\n",
    "\n",
    "price = 49\n",
    "txt = \"The price is {} dollars\"\n",
    "print(txt.format(price))"
   ]
  },
  {
   "cell_type": "markdown",
   "metadata": {},
   "source": [
    "You can add parameters inside the curly brackets to specify how to convert the value:\n",
    "\n"
   ]
  },
  {
   "cell_type": "code",
   "execution_count": 7,
   "metadata": {},
   "outputs": [],
   "source": [
    "# Format the price to be displayed as a number with two decimals:\n",
    "\n",
    "txt = \"The price is {:.2f} dollars\""
   ]
  },
  {
   "cell_type": "markdown",
   "metadata": {},
   "source": [
    "### Multiple Values\n",
    "If you want to use more values, just add more values to the format() method:"
   ]
  },
  {
   "cell_type": "code",
   "execution_count": null,
   "metadata": {},
   "outputs": [],
   "source": [
    "print(txt.format(price, itemno, count))"
   ]
  },
  {
   "cell_type": "markdown",
   "metadata": {},
   "source": [
    "And add more placeholders:\n",
    "\n"
   ]
  },
  {
   "cell_type": "code",
   "execution_count": null,
   "metadata": {},
   "outputs": [],
   "source": [
    "quantity = 3\n",
    "itemno = 567\n",
    "price = 49\n",
    "myorder = \"I want {} pieces of item number {} for {:.2f} dollars.\"\n",
    "print(myorder.format(quantity, itemno, price))"
   ]
  },
  {
   "cell_type": "markdown",
   "metadata": {},
   "source": [
    "### Index Numbers\n",
    "You can use index numbers (a number inside the curly brackets {0}) to be sure the values are placed in the correct placeholders:"
   ]
  },
  {
   "cell_type": "code",
   "execution_count": null,
   "metadata": {},
   "outputs": [],
   "source": [
    "quantity = 3\n",
    "itemno = 567\n",
    "price = 49\n",
    "myorder = \"I want {0} pieces of item number {1} for {2:.2f} dollars.\"\n",
    "print(myorder.format(quantity, itemno, price))"
   ]
  },
  {
   "cell_type": "markdown",
   "metadata": {},
   "source": [
    "Also, if you want to refer to the same value more than once, use the index number:\n",
    "\n"
   ]
  },
  {
   "cell_type": "code",
   "execution_count": 9,
   "metadata": {},
   "outputs": [
    {
     "name": "stdout",
     "output_type": "stream",
     "text": [
      "His name is John. John is 36 years old.\n"
     ]
    }
   ],
   "source": [
    "age = 36\n",
    "name = \"John\"\n",
    "txt = \"His name is {1}. {1} is {0} years old.\"\n",
    "print(txt.format(age, name))"
   ]
  },
  {
   "cell_type": "markdown",
   "metadata": {},
   "source": [
    "### Named Indexes\n",
    "You can also use named indexes by entering a name inside the curly brackets {carname}, but then you must use names when you pass the parameter values txt.format(carname = \"Ford\"):"
   ]
  },
  {
   "cell_type": "code",
   "execution_count": 10,
   "metadata": {},
   "outputs": [
    {
     "name": "stdout",
     "output_type": "stream",
     "text": [
      "I have a Ford, it is a Mustang.\n"
     ]
    }
   ],
   "source": [
    "myorder = \"I have a {carname}, it is a {model}.\"\n",
    "print(myorder.format(carname = \"Ford\", model = \"Mustang\"))"
   ]
  },
  {
   "cell_type": "code",
   "execution_count": 14,
   "metadata": {},
   "outputs": [
    {
     "name": "stdout",
     "output_type": "stream",
     "text": [
      "result: (num1 + num2) / 2 = avg\n",
      "result: ( 12 + 20 ) / 2 =  16.0\n",
      "result: 12 + 20) / 2 = 16.0\n",
      "result: 12 + 20) / 2 = 16.0\n",
      "result: (12 + 20) / 2 = 16.000\n"
     ]
    }
   ],
   "source": [
    "num1 = 12 \n",
    "num2 = 20\n",
    "avg = (num1 + num2) / 2\n",
    "\n",
    "print(\"result: (num1 + num2) / 2 = avg\")\n",
    "print(\"result: (\", num1, \"+\", num2, \") / 2 = \", avg)\n",
    "print(\"result: {} + {}) / 2 = {}\".format(num1, num2, avg))\n",
    "print(f\"result: {num1} + {num2}) / 2 = {avg}\")\n",
    "print(\"result: (%d + %d) / 2 = %.3f\" % (num1, num2, avg))"
   ]
  }
 ],
 "metadata": {
  "kernelspec": {
   "display_name": "murph_env",
   "language": "python",
   "name": "python3"
  },
  "language_info": {
   "codemirror_mode": {
    "name": "ipython",
    "version": 3
   },
   "file_extension": ".py",
   "mimetype": "text/x-python",
   "name": "python",
   "nbconvert_exporter": "python",
   "pygments_lexer": "ipython3",
   "version": "3.13.0"
  }
 },
 "nbformat": 4,
 "nbformat_minor": 2
}
