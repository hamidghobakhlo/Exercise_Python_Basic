{
 "cells": [
  {
   "cell_type": "markdown",
   "metadata": {},
   "source": [
    "# Operators\n",
    "\n",
    "* Operators are used to perform operations on variables and values.\n",
    "\n",
    "* In the example below, we use the + operator to add together two values:"
   ]
  },
  {
   "cell_type": "code",
   "execution_count": null,
   "metadata": {},
   "outputs": [],
   "source": [
    "print(10 + 5)"
   ]
  },
  {
   "cell_type": "markdown",
   "metadata": {},
   "source": [
    "### Python divides the operators in the following groups:\n",
    "\n",
    "* Arithmetic operators\n",
    "* Assignment operators\n",
    "* Comparison operators\n",
    "* Logical operators\n",
    "* Identity operators\n",
    "* Membership operators\n",
    "* Bitwise operators"
   ]
  },
  {
   "cell_type": "markdown",
   "metadata": {},
   "source": [
    "### Python Arithmetic Operators\n",
    "\n",
    "Arithmetic operators are used with numeric values to perform common mathematical operations:"
   ]
  },
  {
   "cell_type": "markdown",
   "metadata": {},
   "source": [
    "Operator|Name|Example\t\n",
    "--------|----|-------\n",
    "|+\t|Addition\t|x + y\t\n",
    "|-\t|Subtraction\t|x - y\t\n",
    "|*\t|Multiplication\t|x * y\t\n",
    "|/\t|Division\t|x / y\t\n",
    "|%\t|Modulus\t|x % y\t\n",
    "|**\t|Exponentiation\t|x ** y\t\n",
    "|//\t|Floor division\t|x // y"
   ]
  },
  {
   "cell_type": "code",
   "execution_count": null,
   "metadata": {},
   "outputs": [],
   "source": [
    "x = 12\n",
    "y = 3\n",
    "\n",
    "print(x / y)"
   ]
  },
  {
   "cell_type": "code",
   "execution_count": null,
   "metadata": {},
   "outputs": [],
   "source": [
    "x = 15\n",
    "y = 2\n",
    "\n",
    "print(x // y)\n",
    "\n",
    "#the floor division // rounds the result down to the nearest whole number"
   ]
  },
  {
   "cell_type": "markdown",
   "metadata": {},
   "source": [
    "### Python Assignment Operators\n",
    "\n",
    "Assignment operators are used to assign values to variables:"
   ]
  },
  {
   "cell_type": "markdown",
   "metadata": {},
   "source": [
    "Operator\t    |Example\t|Same As\t\n",
    "----------------|-----------|-------\n",
    "=\t|x = 5\t|x = 5\t\n",
    "+=\t|x += 3\t|x = x + 3\t\n",
    "-=\t|x -= 3\t|x = x - 3\t\n",
    "*=\t|x *= 3\t|x = x * 3\t\n",
    "/=\t|x /= 3\t|x = x / 3\t\n",
    "%=\t|x %= 3\t|x = x % 3\t\n",
    "//=\t|x //= 3|x = x // 3\t\n",
    "**=\t|x **= 3|x = x ** 3\t\n",
    "&=\t|x &= 3\t|x = x & 3\t\n",
    "\\|=\t|x |= 3\t|x = x \\| 3\t\n",
    "^=\t|x ^= 3\t|x = x ^ 3\t\n",
    "\\>>=\t|x >>= 3|x = x >> 3\t\n",
    "<<=\t|x <<= 3|x = x << 3\t\n",
    ":=\t|print(x := 3)|x = 3 print(x)"
   ]
  },
  {
   "cell_type": "markdown",
   "metadata": {},
   "source": [
    "### Python Comparison Operators\n",
    "\n",
    "Comparison operators are used to compare two values:"
   ]
  },
  {
   "cell_type": "markdown",
   "metadata": {},
   "source": [
    "|Operator\t|Name\t|Example|\t\n",
    "|------------|-------|-------|\n",
    "==\t|Equal\t|x == y\t\n",
    "!=\t|Not equal\t|x != y\t\n",
    "\\>\t|Greater than\t|x > y\t\n",
    "<\t|Less than\t|x < y\t\n",
    "\\>=\t|Greater than or equal to\t|x >= y\t\n",
    "<=\t|Less than or equal to\t|x <= y"
   ]
  },
  {
   "cell_type": "markdown",
   "metadata": {},
   "source": [
    "### Python Logical Operators\n",
    "\n",
    "Logical operators are used to combine conditional statements:"
   ]
  },
  {
   "cell_type": "markdown",
   "metadata": {},
   "source": [
    "|Operator\t|Description\t|Example|\n",
    "|-----------|---------------|-------|\t\n",
    "and \t|Returns True if both statements are true\t|x < 5 and  x < 10\t\n",
    "or\t|Returns True if one of the statements is true\t|x < 5 or x < 4\t\n",
    "not\t|Reverse the result, returns False if the result is true\t|not(x < 5 and x < 10)"
   ]
  },
  {
   "cell_type": "markdown",
   "metadata": {},
   "source": [
    "### Python Identity Operators\n",
    "\n",
    "Identity operators are used to compare the objects, not if they are equal, but if they are actually the same object, with the same memory location:"
   ]
  },
  {
   "cell_type": "markdown",
   "metadata": {},
   "source": [
    "Operator\t|Description\t|Example|\n",
    "|-----------|---------------|-------|\n",
    "is \t|Returns True if both variables are the same object\t|x is y\t\n",
    "is not\t|Returns True if both variables are not the same object |x is not y"
   ]
  },
  {
   "cell_type": "code",
   "execution_count": null,
   "metadata": {},
   "outputs": [],
   "source": [
    "x = [\"apple\", \"banana\"]\n",
    "y = [\"apple\", \"banana\"]\n",
    "z = x\n",
    "\n",
    "print(x is z)\n",
    "\n",
    "# returns True because z is the same object as x\n",
    "\n",
    "print(x is y)\n",
    "\"\"\"\n",
    "returns False because x is not the same object as y, \n",
    "even if they have the same content\n",
    "\"\"\"\n",
    "\n",
    "print(x == y)\n",
    "\"\"\"\n",
    "to demonstrate the difference betweeen \"is\" and \"==\": \n",
    "this comparison returns True because x is equal to y\n",
    "\"\"\""
   ]
  },
  {
   "cell_type": "markdown",
   "metadata": {},
   "source": [
    "### Python Membership Operators\n",
    "\n",
    "Membership operators are used to test if a sequence is presented in an object:"
   ]
  },
  {
   "cell_type": "markdown",
   "metadata": {},
   "source": [
    "|Operator\t|Description\t|Example\n",
    "|-----------|---------------|-------|\t\n",
    "in \t|Returns True if a sequence with the specified value is present in the object\t|x in y\t\n",
    "not in\t|Returns True if a sequence with the specified value is not present in the object\t|x not in y"
   ]
  },
  {
   "cell_type": "markdown",
   "metadata": {},
   "source": [
    "### Python Bitwise Operators\n",
    "\n",
    "Bitwise operators are used to compare (binary) numbers:"
   ]
  },
  {
   "cell_type": "markdown",
   "metadata": {},
   "source": [
    "Operator\t|Name\t|Description\t|Example\t\n",
    "------------|-------|---------------|-------\n",
    "& \t|AND\t|Sets each bit to 1 if both bits are 1\t|x & y\t\n",
    "\\|\t|OR\t|Sets each bit to 1 if one of two bits is 1\t|x \\| y\t\n",
    "^\t|XOR\t|Sets each bit to 1 if only one of two bits is 1\t|x ^ y\t\n",
    "~\t|NOT\t|Inverts all the bits\t|~x\t\n",
    "<<\t|Zero |fill left shift\tShift left by pushing zeros in from the right and let the leftmost bits fall off\t|x << 2\t\n",
    "\\>>\t|Signed right shift\t|Shift right by pushing copies of the leftmost bit in from the left, and let the rightmost bits fall off\t|x >> 2"
   ]
  },
  {
   "cell_type": "markdown",
   "metadata": {},
   "source": [
    "### Operator Precedence\n",
    "\n",
    "Operator precedence describes the order in which operations are performed."
   ]
  },
  {
   "cell_type": "code",
   "execution_count": null,
   "metadata": {},
   "outputs": [],
   "source": [
    "'''\n",
    "Parentheses has the highest precedence, \n",
    "meaning that expressions inside parentheses must be evaluated first:\n",
    "'''\n",
    "print((6 + 3) - (6 + 3))"
   ]
  },
  {
   "cell_type": "code",
   "execution_count": null,
   "metadata": {},
   "outputs": [],
   "source": [
    "'''\n",
    "Multiplication * has higher precedence than addition +, \n",
    "and therefor multiplications are evaluated before additions:\n",
    "'''\n",
    "print(100 + 5 * 3)"
   ]
  },
  {
   "cell_type": "markdown",
   "metadata": {},
   "source": [
    "The precedence order is described in the table below, starting with the highest precedence at the top:"
   ]
  },
  {
   "cell_type": "markdown",
   "metadata": {},
   "source": [
    "Operator\t|Description\n",
    "------------|-----------\t\n",
    "()\t|Parentheses\t\n",
    "**\t|Exponentiation\t\n",
    "+x  -x  ~x\t|Unary plus, unary minus, and bitwise NOT\t\n",
    "\\*  /  //  %\t|Multiplication, division, floor division, and modulus\t\n",
    "\\+  -\t|Addition and subtraction\t\n",
    "<<  >>\t|Bitwise left and right shifts\t\n",
    "&\t|Bitwise AND\t\n",
    "^\t|Bitwise XOR\t\n",
    "\\|\t|Bitwise OR\t\n",
    "==  !=  >  >=  <  <= - is - is not  in - not in \t|Comparisons, identity, and membership operators\t\n",
    "not\t|Logical NOT\t\n",
    "and\t|AND\t\n",
    "or\t|OR"
   ]
  },
  {
   "cell_type": "markdown",
   "metadata": {},
   "source": [
    "* If two operators have the same precedence, the expression is evaluated from left to right."
   ]
  },
  {
   "cell_type": "code",
   "execution_count": null,
   "metadata": {},
   "outputs": [],
   "source": [
    "'''\n",
    "Addition + and subtraction - has the same precedence,\n",
    " and therefor we evaluate the expression from left to right:\n",
    "'''\n",
    "print(5 + 4 - 7 + 3)"
   ]
  }
 ],
 "metadata": {
  "kernelspec": {
   "display_name": "murph_env",
   "language": "python",
   "name": "python3"
  },
  "language_info": {
   "name": "python",
   "version": "3.13.0"
  }
 },
 "nbformat": 4,
 "nbformat_minor": 2
}
